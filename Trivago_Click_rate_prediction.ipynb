{
  "nbformat": 4,
  "nbformat_minor": 0,
  "metadata": {
    "colab": {
      "name": "Trivago_Click_rate_prediction.ipynb",
      "provenance": [],
      "authorship_tag": "ABX9TyOsrTUBYofmk3Hscy/qzdx7",
      "include_colab_link": true
    },
    "kernelspec": {
      "name": "python3",
      "display_name": "Python 3"
    }
  },
  "cells": [
    {
      "cell_type": "markdown",
      "metadata": {
        "id": "view-in-github",
        "colab_type": "text"
      },
      "source": [
        "<a href=\"https://colab.research.google.com/github/premkumar25/Trivago_click_rate_prediction/blob/main/Trivago_Click_rate_prediction.ipynb\" target=\"_parent\"><img src=\"https://colab.research.google.com/assets/colab-badge.svg\" alt=\"Open In Colab\"/></a>"
      ]
    },
    {
      "cell_type": "code",
      "metadata": {
        "id": "MWlMlDMy5Zt5"
      },
      "source": [
        "import pandas as pd\r\n",
        "import numpy as np\r\n",
        "import matplotlib.pyplot as plt\r\n",
        "import seaborn as sns\r\n",
        "import warnings\r\n",
        "%matplotlib inline\r\n",
        "warnings.filterwarnings('ignore')"
      ],
      "execution_count": 22,
      "outputs": []
    },
    {
      "cell_type": "code",
      "metadata": {
        "colab": {
          "base_uri": "https://localhost:8080/",
          "height": 204
        },
        "id": "63XxKbTr56US",
        "outputId": "df174c2e-0f6f-4ced-c50f-191634c055a5"
      },
      "source": [
        "df = pd.read_csv('train_set.csv')\r\n",
        "df.head()"
      ],
      "execution_count": 14,
      "outputs": [
        {
          "output_type": "execute_result",
          "data": {
            "text/html": [
              "<div>\n",
              "<style scoped>\n",
              "    .dataframe tbody tr th:only-of-type {\n",
              "        vertical-align: middle;\n",
              "    }\n",
              "\n",
              "    .dataframe tbody tr th {\n",
              "        vertical-align: top;\n",
              "    }\n",
              "\n",
              "    .dataframe thead th {\n",
              "        text-align: right;\n",
              "    }\n",
              "</style>\n",
              "<table border=\"1\" class=\"dataframe\">\n",
              "  <thead>\n",
              "    <tr style=\"text-align: right;\">\n",
              "      <th></th>\n",
              "      <th>hotel_id</th>\n",
              "      <th>city_id</th>\n",
              "      <th>content_score</th>\n",
              "      <th>n_images</th>\n",
              "      <th>distance_to_center</th>\n",
              "      <th>avg_rating</th>\n",
              "      <th>stars</th>\n",
              "      <th>n_reviews</th>\n",
              "      <th>avg_rank</th>\n",
              "      <th>avg_price</th>\n",
              "      <th>avg_saving_percent</th>\n",
              "      <th>n_clicks</th>\n",
              "    </tr>\n",
              "  </thead>\n",
              "  <tbody>\n",
              "    <tr>\n",
              "      <th>0</th>\n",
              "      <td>9.767406e+10</td>\n",
              "      <td>134520.0</td>\n",
              "      <td>70.0</td>\n",
              "      <td>2.0</td>\n",
              "      <td>1199.0</td>\n",
              "      <td>77.0</td>\n",
              "      <td>4.0</td>\n",
              "      <td>861.0</td>\n",
              "      <td>17.550</td>\n",
              "      <td>81.64</td>\n",
              "      <td>18.0</td>\n",
              "      <td>0</td>\n",
              "    </tr>\n",
              "    <tr>\n",
              "      <th>1</th>\n",
              "      <td>9.768889e+10</td>\n",
              "      <td>133876.0</td>\n",
              "      <td>67.0</td>\n",
              "      <td>3.0</td>\n",
              "      <td>12585.0</td>\n",
              "      <td>90.0</td>\n",
              "      <td>4.0</td>\n",
              "      <td>4371.0</td>\n",
              "      <td>17.383</td>\n",
              "      <td>189.38</td>\n",
              "      <td>28.0</td>\n",
              "      <td>4</td>\n",
              "    </tr>\n",
              "    <tr>\n",
              "      <th>2</th>\n",
              "      <td>9.811544e+10</td>\n",
              "      <td>133732.0</td>\n",
              "      <td>39.0</td>\n",
              "      <td>3.0</td>\n",
              "      <td>23491.0</td>\n",
              "      <td>83.0</td>\n",
              "      <td>3.0</td>\n",
              "      <td>1005.0</td>\n",
              "      <td>16.438</td>\n",
              "      <td>57.63</td>\n",
              "      <td>27.0</td>\n",
              "      <td>44</td>\n",
              "    </tr>\n",
              "    <tr>\n",
              "      <th>3</th>\n",
              "      <td>9.824279e+10</td>\n",
              "      <td>43772.0</td>\n",
              "      <td>59.0</td>\n",
              "      <td>8.0</td>\n",
              "      <td>3291.0</td>\n",
              "      <td>73.0</td>\n",
              "      <td>2.0</td>\n",
              "      <td>3084.0</td>\n",
              "      <td>7.000</td>\n",
              "      <td>72.16</td>\n",
              "      <td>2.0</td>\n",
              "      <td>4</td>\n",
              "    </tr>\n",
              "    <tr>\n",
              "      <th>4</th>\n",
              "      <td>9.833438e+10</td>\n",
              "      <td>50532.0</td>\n",
              "      <td>66.0</td>\n",
              "      <td>1.0</td>\n",
              "      <td>288.0</td>\n",
              "      <td>80.0</td>\n",
              "      <td>0.0</td>\n",
              "      <td>603.0</td>\n",
              "      <td>12.564</td>\n",
              "      <td>173.25</td>\n",
              "      <td>0.0</td>\n",
              "      <td>10</td>\n",
              "    </tr>\n",
              "  </tbody>\n",
              "</table>\n",
              "</div>"
            ],
            "text/plain": [
              "       hotel_id   city_id  ...  avg_saving_percent  n_clicks\n",
              "0  9.767406e+10  134520.0  ...                18.0         0\n",
              "1  9.768889e+10  133876.0  ...                28.0         4\n",
              "2  9.811544e+10  133732.0  ...                27.0        44\n",
              "3  9.824279e+10   43772.0  ...                 2.0         4\n",
              "4  9.833438e+10   50532.0  ...                 0.0        10\n",
              "\n",
              "[5 rows x 12 columns]"
            ]
          },
          "metadata": {
            "tags": []
          },
          "execution_count": 14
        }
      ]
    },
    {
      "cell_type": "code",
      "metadata": {
        "colab": {
          "base_uri": "https://localhost:8080/"
        },
        "id": "LTcVCJaZ8h27",
        "outputId": "ca0ea5eb-923f-43b0-e72c-26f633697301"
      },
      "source": [
        "df.info()"
      ],
      "execution_count": 15,
      "outputs": [
        {
          "output_type": "stream",
          "text": [
            "<class 'pandas.core.frame.DataFrame'>\n",
            "RangeIndex: 396487 entries, 0 to 396486\n",
            "Data columns (total 12 columns):\n",
            " #   Column              Non-Null Count   Dtype  \n",
            "---  ------              --------------   -----  \n",
            " 0   hotel_id            396487 non-null  float64\n",
            " 1   city_id             395979 non-null  float64\n",
            " 2   content_score       395979 non-null  float64\n",
            " 3   n_images            395978 non-null  float64\n",
            " 4   distance_to_center  395958 non-null  float64\n",
            " 5   avg_rating          286089 non-null  float64\n",
            " 6   stars               395925 non-null  float64\n",
            " 7   n_reviews           395958 non-null  float64\n",
            " 8   avg_rank            396487 non-null  float64\n",
            " 9   avg_price           396317 non-null  float64\n",
            " 10  avg_saving_percent  396317 non-null  float64\n",
            " 11  n_clicks            396487 non-null  int64  \n",
            "dtypes: float64(11), int64(1)\n",
            "memory usage: 36.3 MB\n"
          ],
          "name": "stdout"
        }
      ]
    },
    {
      "cell_type": "code",
      "metadata": {
        "id": "Srd6urftvx5s"
      },
      "source": [
        "df1 = df.copy()"
      ],
      "execution_count": 16,
      "outputs": []
    },
    {
      "cell_type": "code",
      "metadata": {
        "colab": {
          "base_uri": "https://localhost:8080/",
          "height": 372
        },
        "id": "dhYjGl5lvt-7",
        "outputId": "9f0a09be-eb83-497f-d7e6-260076ac269b"
      },
      "source": [
        "sns.heatmap(df1.isnull(),yticklabels=False,cbar=False)"
      ],
      "execution_count": 17,
      "outputs": [
        {
          "output_type": "execute_result",
          "data": {
            "text/plain": [
              "<matplotlib.axes._subplots.AxesSubplot at 0x7f64aae99438>"
            ]
          },
          "metadata": {
            "tags": []
          },
          "execution_count": 17
        },
        {
          "output_type": "display_data",
          "data": {
            "image/png": "[encoded data removed]",
            "text/plain": [
              "<Figure size 432x288 with 1 Axes>"
            ]
          },
          "metadata": {
            "tags": [],
            "needs_background": "light"
          }
        }
      ]
    },
    {
      "cell_type": "code",
      "metadata": {
        "colab": {
          "base_uri": "https://localhost:8080/"
        },
        "id": "-De9KHhB8k9v",
        "outputId": "1adcf3a5-eee0-49ec-f5dc-6b6e2c3f0ba1"
      },
      "source": [
        "df1.isnull().sum()"
      ],
      "execution_count": 18,
      "outputs": [
        {
          "output_type": "execute_result",
          "data": {
            "text/plain": [
              "hotel_id                   0\n",
              "city_id                  508\n",
              "content_score            508\n",
              "n_images                 509\n",
              "distance_to_center       529\n",
              "avg_rating            110398\n",
              "stars                    562\n",
              "n_reviews                529\n",
              "avg_rank                   0\n",
              "avg_price                170\n",
              "avg_saving_percent       170\n",
              "n_clicks                   0\n",
              "dtype: int64"
            ]
          },
          "metadata": {
            "tags": []
          },
          "execution_count": 18
        }
      ]
    },
    {
      "cell_type": "code",
      "metadata": {
        "id": "MuI35Bk-_f1h",
        "colab": {
          "base_uri": "https://localhost:8080/",
          "height": 702
        },
        "outputId": "a0a55788-8b58-4e7f-b0ec-1ac09030d840"
      },
      "source": [
        "fig, ax = plt.pyplot.subplots(figsize=(10,10)) \r\n",
        "sns.heatmap(df.corr(),annot=True, ax=ax)"
      ],
      "execution_count": 52,
      "outputs": [
        {
          "output_type": "execute_result",
          "data": {
            "text/plain": [
              "<matplotlib.axes._subplots.AxesSubplot at 0x7f649d8d8c50>"
            ]
          },
          "metadata": {
            "tags": []
          },
          "execution_count": 52
        },
        {
          "output_type": "display_data",
          "data": {
            "image/png": "[encoded data removed]",
            "text/plain": [
              "<Figure size 720x720 with 2 Axes>"
            ]
          },
          "metadata": {
            "tags": [],
            "needs_background": "light"
          }
        }
      ]
    },
    {
      "cell_type": "markdown",
      "metadata": {
        "id": "_eKae9u-2VAc"
      },
      "source": [
        "Average rating, n_images and distance to centre has very less corelation. So we can drop those.\r\n"
      ]
    },
    {
      "cell_type": "code",
      "metadata": {
        "id": "Hwqhi95N2Ucm"
      },
      "source": [
        "df1.drop(['n_images','distance_to_center','avg_rating'],axis=1, inplace=True)"
      ],
      "execution_count": 47,
      "outputs": []
    },
    {
      "cell_type": "code",
      "metadata": {
        "colab": {
          "base_uri": "https://localhost:8080/",
          "height": 204
        },
        "id": "tQpz5kpgAooM",
        "outputId": "4970d0bd-f569-4f15-bb01-6c377be03b63"
      },
      "source": [
        "df1.head()"
      ],
      "execution_count": 48,
      "outputs": [
        {
          "output_type": "execute_result",
          "data": {
            "text/html": [
              "<div>\n",
              "<style scoped>\n",
              "    .dataframe tbody tr th:only-of-type {\n",
              "        vertical-align: middle;\n",
              "    }\n",
              "\n",
              "    .dataframe tbody tr th {\n",
              "        vertical-align: top;\n",
              "    }\n",
              "\n",
              "    .dataframe thead th {\n",
              "        text-align: right;\n",
              "    }\n",
              "</style>\n",
              "<table border=\"1\" class=\"dataframe\">\n",
              "  <thead>\n",
              "    <tr style=\"text-align: right;\">\n",
              "      <th></th>\n",
              "      <th>hotel_id</th>\n",
              "      <th>city_id</th>\n",
              "      <th>content_score</th>\n",
              "      <th>stars</th>\n",
              "      <th>n_reviews</th>\n",
              "      <th>avg_rank</th>\n",
              "      <th>avg_price</th>\n",
              "      <th>avg_saving_percent</th>\n",
              "      <th>n_clicks</th>\n",
              "    </tr>\n",
              "  </thead>\n",
              "  <tbody>\n",
              "    <tr>\n",
              "      <th>0</th>\n",
              "      <td>9.767406e+10</td>\n",
              "      <td>134520.0</td>\n",
              "      <td>70.0</td>\n",
              "      <td>4.0</td>\n",
              "      <td>861.0</td>\n",
              "      <td>17.550</td>\n",
              "      <td>81.64</td>\n",
              "      <td>18.0</td>\n",
              "      <td>0</td>\n",
              "    </tr>\n",
              "    <tr>\n",
              "      <th>1</th>\n",
              "      <td>9.768889e+10</td>\n",
              "      <td>133876.0</td>\n",
              "      <td>67.0</td>\n",
              "      <td>4.0</td>\n",
              "      <td>4371.0</td>\n",
              "      <td>17.383</td>\n",
              "      <td>189.38</td>\n",
              "      <td>28.0</td>\n",
              "      <td>4</td>\n",
              "    </tr>\n",
              "    <tr>\n",
              "      <th>2</th>\n",
              "      <td>9.811544e+10</td>\n",
              "      <td>133732.0</td>\n",
              "      <td>39.0</td>\n",
              "      <td>3.0</td>\n",
              "      <td>1005.0</td>\n",
              "      <td>16.438</td>\n",
              "      <td>57.63</td>\n",
              "      <td>27.0</td>\n",
              "      <td>44</td>\n",
              "    </tr>\n",
              "    <tr>\n",
              "      <th>3</th>\n",
              "      <td>9.824279e+10</td>\n",
              "      <td>43772.0</td>\n",
              "      <td>59.0</td>\n",
              "      <td>2.0</td>\n",
              "      <td>3084.0</td>\n",
              "      <td>7.000</td>\n",
              "      <td>72.16</td>\n",
              "      <td>2.0</td>\n",
              "      <td>4</td>\n",
              "    </tr>\n",
              "    <tr>\n",
              "      <th>4</th>\n",
              "      <td>9.833438e+10</td>\n",
              "      <td>50532.0</td>\n",
              "      <td>66.0</td>\n",
              "      <td>0.0</td>\n",
              "      <td>603.0</td>\n",
              "      <td>12.564</td>\n",
              "      <td>173.25</td>\n",
              "      <td>0.0</td>\n",
              "      <td>10</td>\n",
              "    </tr>\n",
              "  </tbody>\n",
              "</table>\n",
              "</div>"
            ],
            "text/plain": [
              "       hotel_id   city_id  ...  avg_saving_percent  n_clicks\n",
              "0  9.767406e+10  134520.0  ...                18.0         0\n",
              "1  9.768889e+10  133876.0  ...                28.0         4\n",
              "2  9.811544e+10  133732.0  ...                27.0        44\n",
              "3  9.824279e+10   43772.0  ...                 2.0         4\n",
              "4  9.833438e+10   50532.0  ...                 0.0        10\n",
              "\n",
              "[5 rows x 9 columns]"
            ]
          },
          "metadata": {
            "tags": []
          },
          "execution_count": 48
        }
      ]
    },
    {
      "cell_type": "code",
      "metadata": {
        "colab": {
          "base_uri": "https://localhost:8080/"
        },
        "id": "UtDqPPflBoVc",
        "outputId": "48bfc92f-f999-4e90-a7a8-5d274644dc63"
      },
      "source": [
        "df1.isnull().sum()"
      ],
      "execution_count": 49,
      "outputs": [
        {
          "output_type": "execute_result",
          "data": {
            "text/plain": [
              "hotel_id                0\n",
              "city_id               508\n",
              "content_score         508\n",
              "stars                 562\n",
              "n_reviews             529\n",
              "avg_rank                0\n",
              "avg_price             170\n",
              "avg_saving_percent    170\n",
              "n_clicks                0\n",
              "dtype: int64"
            ]
          },
          "metadata": {
            "tags": []
          },
          "execution_count": 49
        }
      ]
    },
    {
      "cell_type": "code",
      "metadata": {
        "id": "T6SLhdeG3SAa"
      },
      "source": [
        "from sklearn.impute import KNNImputer"
      ],
      "execution_count": 50,
      "outputs": []
    },
    {
      "cell_type": "code",
      "metadata": {
        "id": "WYXbsFAp3fnK"
      },
      "source": [
        "imp = KNNImputer(n_neighbors=7)\r\n",
        "df1 = pd.DataFrame(imp.fit_transform(df1),columns=df1.columns)"
      ],
      "execution_count": 57,
      "outputs": []
    },
    {
      "cell_type": "code",
      "metadata": {
        "colab": {
          "base_uri": "https://localhost:8080/",
          "height": 372
        },
        "id": "fCUXzrxB3fad",
        "outputId": "4baf35ea-30b8-4929-d302-97ac0419392e"
      },
      "source": [
        "sns.heatmap(df1.isnull(),yticklabels=False,cbar=False)"
      ],
      "execution_count": 58,
      "outputs": [
        {
          "output_type": "execute_result",
          "data": {
            "text/plain": [
              "<matplotlib.axes._subplots.AxesSubplot at 0x7f649d39e6d8>"
            ]
          },
          "metadata": {
            "tags": []
          },
          "execution_count": 58
        },
        {
          "output_type": "display_data",
          "data": {
            "image/png": "[encoded data removed]",
            "text/plain": [
              "<Figure size 432x288 with 1 Axes>"
            ]
          },
          "metadata": {
            "tags": [],
            "needs_background": "light"
          }
        }
      ]
    },
    {
      "cell_type": "code",
      "metadata": {
        "colab": {
          "base_uri": "https://localhost:8080/",
          "height": 886
        },
        "id": "6certJDd6dQA",
        "outputId": "fb8c1fa3-54bf-4d4d-85ec-48893d099ce9"
      },
      "source": [
        "df1.hist(figsize=(10,12))"
      ],
      "execution_count": 65,
      "outputs": [
        {
          "output_type": "execute_result",
          "data": {
            "text/plain": [
              "array([[<matplotlib.axes._subplots.AxesSubplot object at 0x7f649cfe3e48>,\n",
              "        <matplotlib.axes._subplots.AxesSubplot object at 0x7f649af31da0>,\n",
              "        <matplotlib.axes._subplots.AxesSubplot object at 0x7f649af63fd0>],\n",
              "       [<matplotlib.axes._subplots.AxesSubplot object at 0x7f649af1e2b0>,\n",
              "        <matplotlib.axes._subplots.AxesSubplot object at 0x7f649aece518>,\n",
              "        <matplotlib.axes._subplots.AxesSubplot object at 0x7f649ae7f780>],\n",
              "       [<matplotlib.axes._subplots.AxesSubplot object at 0x7f649ae309e8>,\n",
              "        <matplotlib.axes._subplots.AxesSubplot object at 0x7f649ae5ec18>,\n",
              "        <matplotlib.axes._subplots.AxesSubplot object at 0x7f649ae5ec88>]],\n",
              "      dtype=object)"
            ]
          },
          "metadata": {
            "tags": []
          },
          "execution_count": 65
        },
        {
          "output_type": "display_data",
          "data": {
            "image/png": "[encoded data removed]",
            "text/plain": [
              "<Figure size 720x864 with 9 Axes>"
            ]
          },
          "metadata": {
            "tags": [],
            "needs_background": "light"
          }
        }
      ]
    },
    {
      "cell_type": "code",
      "metadata": {
        "id": "Umi012pt96l4"
      },
      "source": [
        "from sklearn.preprocessing import StandardScaler"
      ],
      "execution_count": 80,
      "outputs": []
    },
    {
      "cell_type": "code",
      "metadata": {
        "colab": {
          "base_uri": "https://localhost:8080/"
        },
        "id": "lGTHWwTx-bDG",
        "outputId": "54227724-3603-4163-f46f-72a3d49babe6"
      },
      "source": [
        "df1.columns"
      ],
      "execution_count": 81,
      "outputs": [
        {
          "output_type": "execute_result",
          "data": {
            "text/plain": [
              "Index(['hotel_id', 'city_id', 'content_score', 'stars', 'n_reviews',\n",
              "       'avg_rank', 'avg_price', 'avg_saving_percent', 'n_clicks'],\n",
              "      dtype='object')"
            ]
          },
          "metadata": {
            "tags": []
          },
          "execution_count": 81
        }
      ]
    },
    {
      "cell_type": "code",
      "metadata": {
        "id": "A68TVmE0-KLn"
      },
      "source": [
        "scale = StandardScaler()\r\n",
        "scale_columns = ['hotel_id', 'city_id', 'content_score', 'stars', 'n_reviews', 'avg_rank', 'avg_price', 'avg_saving_percent']\r\n",
        "df1[scale_columns] = scale.fit_transform(df1[scale_columns])"
      ],
      "execution_count": 82,
      "outputs": []
    },
    {
      "cell_type": "code",
      "metadata": {
        "colab": {
          "base_uri": "https://localhost:8080/",
          "height": 204
        },
        "id": "S-fDRBWo-0Bj",
        "outputId": "97cb2327-6edd-4a6c-9d4b-d82c8dd84b4e"
      },
      "source": [
        "df1.head()"
      ],
      "execution_count": 84,
      "outputs": [
        {
          "output_type": "execute_result",
          "data": {
            "text/html": [
              "<div>\n",
              "<style scoped>\n",
              "    .dataframe tbody tr th:only-of-type {\n",
              "        vertical-align: middle;\n",
              "    }\n",
              "\n",
              "    .dataframe tbody tr th {\n",
              "        vertical-align: top;\n",
              "    }\n",
              "\n",
              "    .dataframe thead th {\n",
              "        text-align: right;\n",
              "    }\n",
              "</style>\n",
              "<table border=\"1\" class=\"dataframe\">\n",
              "  <thead>\n",
              "    <tr style=\"text-align: right;\">\n",
              "      <th></th>\n",
              "      <th>hotel_id</th>\n",
              "      <th>city_id</th>\n",
              "      <th>content_score</th>\n",
              "      <th>stars</th>\n",
              "      <th>n_reviews</th>\n",
              "      <th>avg_rank</th>\n",
              "      <th>avg_price</th>\n",
              "      <th>avg_saving_percent</th>\n",
              "      <th>n_clicks</th>\n",
              "    </tr>\n",
              "  </thead>\n",
              "  <tbody>\n",
              "    <tr>\n",
              "      <th>0</th>\n",
              "      <td>-0.338160</td>\n",
              "      <td>-0.066977</td>\n",
              "      <td>1.644295</td>\n",
              "      <td>1.754428</td>\n",
              "      <td>-0.021526</td>\n",
              "      <td>0.509494</td>\n",
              "      <td>-0.186897</td>\n",
              "      <td>0.827305</td>\n",
              "      <td>0.0</td>\n",
              "    </tr>\n",
              "    <tr>\n",
              "      <th>1</th>\n",
              "      <td>-0.338016</td>\n",
              "      <td>-0.069917</td>\n",
              "      <td>1.384787</td>\n",
              "      <td>1.754428</td>\n",
              "      <td>1.422253</td>\n",
              "      <td>0.479697</td>\n",
              "      <td>0.540187</td>\n",
              "      <td>1.591853</td>\n",
              "      <td>4.0</td>\n",
              "    </tr>\n",
              "    <tr>\n",
              "      <th>2</th>\n",
              "      <td>-0.333890</td>\n",
              "      <td>-0.070574</td>\n",
              "      <td>-1.037285</td>\n",
              "      <td>1.136785</td>\n",
              "      <td>0.037706</td>\n",
              "      <td>0.311085</td>\n",
              "      <td>-0.348929</td>\n",
              "      <td>1.515398</td>\n",
              "      <td>44.0</td>\n",
              "    </tr>\n",
              "    <tr>\n",
              "      <th>3</th>\n",
              "      <td>-0.332658</td>\n",
              "      <td>-0.481212</td>\n",
              "      <td>0.692766</td>\n",
              "      <td>0.519143</td>\n",
              "      <td>0.892867</td>\n",
              "      <td>-1.372898</td>\n",
              "      <td>-0.250873</td>\n",
              "      <td>-0.395972</td>\n",
              "      <td>4.0</td>\n",
              "    </tr>\n",
              "    <tr>\n",
              "      <th>4</th>\n",
              "      <td>-0.331772</td>\n",
              "      <td>-0.450355</td>\n",
              "      <td>1.298284</td>\n",
              "      <td>-0.716142</td>\n",
              "      <td>-0.127650</td>\n",
              "      <td>-0.380136</td>\n",
              "      <td>0.431333</td>\n",
              "      <td>-0.548882</td>\n",
              "      <td>10.0</td>\n",
              "    </tr>\n",
              "  </tbody>\n",
              "</table>\n",
              "</div>"
            ],
            "text/plain": [
              "   hotel_id   city_id  content_score  ...  avg_price  avg_saving_percent  n_clicks\n",
              "0 -0.338160 -0.066977       1.644295  ...  -0.186897            0.827305       0.0\n",
              "1 -0.338016 -0.069917       1.384787  ...   0.540187            1.591853       4.0\n",
              "2 -0.333890 -0.070574      -1.037285  ...  -0.348929            1.515398      44.0\n",
              "3 -0.332658 -0.481212       0.692766  ...  -0.250873           -0.395972       4.0\n",
              "4 -0.331772 -0.450355       1.298284  ...   0.431333           -0.548882      10.0\n",
              "\n",
              "[5 rows x 9 columns]"
            ]
          },
          "metadata": {
            "tags": []
          },
          "execution_count": 84
        }
      ]
    },
    {
      "cell_type": "code",
      "metadata": {
        "id": "ad43WJHM-xks"
      },
      "source": [
        "source = df1.drop('n_clicks',axis=1)\r\n",
        "target = df1['n_clicks']"
      ],
      "execution_count": 85,
      "outputs": []
    },
    {
      "cell_type": "code",
      "metadata": {
        "id": "LN1FBOyr6AdG"
      },
      "source": [
        "from sklearn.model_selection import train_test_split, cross_val_score\r\n",
        "from sklearn.metrics import mean_squared_error"
      ],
      "execution_count": 76,
      "outputs": []
    },
    {
      "cell_type": "code",
      "metadata": {
        "id": "nQVWH-K56U9H"
      },
      "source": [
        "X_train, X_test, y_train, y_test = train_test_split(source, target)"
      ],
      "execution_count": 87,
      "outputs": []
    },
    {
      "cell_type": "code",
      "metadata": {
        "colab": {
          "base_uri": "https://localhost:8080/"
        },
        "id": "72_9bDlmFDqz",
        "outputId": "77a963ef-3f95-46e6-f091-a3bee0eee795"
      },
      "source": [
        "import xgboost\r\n",
        "classifier = xgboost.XGBRegressor()\r\n",
        "classifier.fit(X_train,y_train)"
      ],
      "execution_count": 88,
      "outputs": [
        {
          "output_type": "stream",
          "text": [
            "[12:44:30] WARNING: /workspace/src/objective/regression_obj.cu:152: reg:linear is now deprecated in favor of reg:squarederror.\n"
          ],
          "name": "stdout"
        },
        {
          "output_type": "execute_result",
          "data": {
            "text/plain": [
              "XGBRegressor(base_score=0.5, booster='gbtree', colsample_bylevel=1,\n",
              "             colsample_bynode=1, colsample_bytree=1, gamma=0,\n",
              "             importance_type='gain', learning_rate=0.1, max_delta_step=0,\n",
              "             max_depth=3, min_child_weight=1, missing=None, n_estimators=100,\n",
              "             n_jobs=1, nthread=None, objective='reg:linear', random_state=0,\n",
              "             reg_alpha=0, reg_lambda=1, scale_pos_weight=1, seed=None,\n",
              "             silent=None, subsample=1, verbosity=1)"
            ]
          },
          "metadata": {
            "tags": []
          },
          "execution_count": 88
        }
      ]
    },
    {
      "cell_type": "code",
      "metadata": {
        "id": "moLdmVXdFJXY"
      },
      "source": [
        "y_pred = classifier.predict(X_test)"
      ],
      "execution_count": 89,
      "outputs": []
    },
    {
      "cell_type": "code",
      "metadata": {
        "colab": {
          "base_uri": "https://localhost:8080/"
        },
        "id": "MaU0B33_FrMF",
        "outputId": "2223ceca-3f83-428b-dc9d-e8f56bc0125d"
      },
      "source": [
        "print(np.sqrt(mean_squared_error(y_test, y_pred)))"
      ],
      "execution_count": 90,
      "outputs": [
        {
          "output_type": "stream",
          "text": [
            "100.8446485392898\n"
          ],
          "name": "stdout"
        }
      ]
    },
    {
      "cell_type": "code",
      "metadata": {
        "colab": {
          "base_uri": "https://localhost:8080/"
        },
        "id": "YxqZDe2AITiI",
        "outputId": "f8b4a2a1-5086-453e-b386-2c20e7a59213"
      },
      "source": [
        "from sklearn.metrics import r2_score\r\n",
        "r2_score(y_test, y_pred)"
      ],
      "execution_count": 91,
      "outputs": [
        {
          "output_type": "execute_result",
          "data": {
            "text/plain": [
              "0.3245115928241469"
            ]
          },
          "metadata": {
            "tags": []
          },
          "execution_count": 91
        }
      ]
    },
    {
      "cell_type": "code",
      "metadata": {
        "id": "f2_FTkrKJMLC"
      },
      "source": [
        "regressor = xgboost.XGBRegressor()"
      ],
      "execution_count": 92,
      "outputs": []
    },
    {
      "cell_type": "code",
      "metadata": {
        "id": "pR48RnsMJ3rn"
      },
      "source": [
        "from sklearn.model_selection import RandomizedSearchCV"
      ],
      "execution_count": 93,
      "outputs": []
    },
    {
      "cell_type": "code",
      "metadata": {
        "id": "BPq_KODbJ8lk"
      },
      "source": [
        "parameters = {\r\n",
        "              'base_score':[0.25,0.5,0.75,1],\r\n",
        "              'booster':['gbtree','gblinear'],\r\n",
        "              'learning_rate':[0.05,0.1,0.15,0.20],\r\n",
        "              'min_child_weight':[1,2,3,4],\r\n",
        "              'n_estimators':[100,200,500,700,900,1100,1500],\r\n",
        "              'max_depth':[1,3,5,10,15]\r\n",
        "}"
      ],
      "execution_count": 94,
      "outputs": []
    },
    {
      "cell_type": "code",
      "metadata": {
        "id": "UPq01c3bLRLm"
      },
      "source": [
        "random_cv = RandomizedSearchCV(estimator=regressor,\r\n",
        "                               param_distributions=parameters,\r\n",
        "                               n_iter=100,\r\n",
        "                               scoring='neg_mean_absolute_error',\r\n",
        "                               cv=5,n_jobs=4,\r\n",
        "                               verbose=5,\r\n",
        "                               return_train_score = True,\r\n",
        "                               random_state=42\r\n",
        "                               )"
      ],
      "execution_count": 95,
      "outputs": []
    },
    {
      "cell_type": "code",
      "metadata": {
        "id": "-zSRQ0sQNSTI",
        "colab": {
          "base_uri": "https://localhost:8080/"
        },
        "outputId": "fcace538-ffd8-42c0-f223-c63b6b842fb1"
      },
      "source": [
        "random_cv.fit(source,target)\r\n",
        "random_cv.best_estimator_"
      ],
      "execution_count": null,
      "outputs": [
        {
          "output_type": "stream",
          "text": [
            "Fitting 5 folds for each of 100 candidates, totalling 500 fits\n"
          ],
          "name": "stdout"
        },
        {
          "output_type": "stream",
          "text": [
            "[Parallel(n_jobs=4)]: Using backend LokyBackend with 4 concurrent workers.\n",
            "[Parallel(n_jobs=4)]: Done  10 tasks      | elapsed:  6.8min\n",
            "[Parallel(n_jobs=4)]: Done  64 tasks      | elapsed: 73.5min\n"
          ],
          "name": "stderr"
        }
      ]
    },
    {
      "cell_type": "code",
      "metadata": {
        "id": "YdJT-oe-BQHD"
      },
      "source": [
        ""
      ],
      "execution_count": null,
      "outputs": []
    },
    {
      "cell_type": "code",
      "metadata": {
        "id": "SiSmXH5GBP_N"
      },
      "source": [
        ""
      ],
      "execution_count": null,
      "outputs": []
    },
    {
      "cell_type": "code",
      "metadata": {
        "id": "F5B6PJ4dBP4m"
      },
      "source": [
        ""
      ],
      "execution_count": null,
      "outputs": []
    },
    {
      "cell_type": "code",
      "metadata": {
        "id": "x1qQFHteBPp9"
      },
      "source": [
        ""
      ],
      "execution_count": null,
      "outputs": []
    },
    {
      "cell_type": "code",
      "metadata": {
        "id": "yvdJTKQDNXdb",
        "colab": {
          "base_uri": "https://localhost:8080/"
        },
        "outputId": "35c8839b-d270-4567-c091-38e2fc160445"
      },
      "source": [
        "from sklearn.model_selection import train_test_split\r\n",
        "from sklearn.metrics import accuracy_score\r\n",
        "\r\n",
        "df_x_train,df_x_test, df_y_train,df_y_test = train_test_split(x_train, y_train, test_size = 0.33, random_state=7)\r\n",
        "model = xgboost.XGBRegressor()\r\n",
        "model.fit(df_x_train, df_y_train)\r\n",
        "pred = model.predict(df_x_test)\r\n",
        "prediction = [round(val) for val in pred]\r\n",
        "accuracy = accuracy_score(df_y_test, prediction)\r\n",
        "accuracy*100"
      ],
      "execution_count": null,
      "outputs": [
        {
          "output_type": "stream",
          "text": [
            "[11:18:11] WARNING: /workspace/src/objective/regression_obj.cu:152: reg:linear is now deprecated in favor of reg:squarederror.\n"
          ],
          "name": "stdout"
        },
        {
          "output_type": "execute_result",
          "data": {
            "text/plain": [
              "5.8406768520570775"
            ]
          },
          "metadata": {
            "tags": []
          },
          "execution_count": 28
        }
      ]
    },
    {
      "cell_type": "code",
      "metadata": {
        "colab": {
          "base_uri": "https://localhost:8080/"
        },
        "id": "Bt7ECGe8u_Wg",
        "outputId": "74f9bbb2-27d2-44d2-925f-03aa19cf35dc"
      },
      "source": [
        "results.mean()"
      ],
      "execution_count": null,
      "outputs": [
        {
          "output_type": "execute_result",
          "data": {
            "text/plain": [
              "0.3076651673149411"
            ]
          },
          "metadata": {
            "tags": []
          },
          "execution_count": 34
        }
      ]
    },
    {
      "cell_type": "code",
      "metadata": {
        "id": "_FvNXSoRx9II"
      },
      "source": [
        ""
      ],
      "execution_count": null,
      "outputs": []
    }
  ]
}